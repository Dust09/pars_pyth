{
 "cells": [
  {
   "cell_type": "markdown",
   "metadata": {},
   "source": [
    "1 Задание"
   ]
  },
  {
   "cell_type": "code",
   "execution_count": 98,
   "metadata": {},
   "outputs": [],
   "source": [
    "import requests\n",
    "import json\n",
    "import getpass"
   ]
  },
  {
   "cell_type": "code",
   "execution_count": 108,
   "metadata": {},
   "outputs": [
    {
     "name": "stdout",
     "output_type": "stream",
     "text": [
      "········\n"
     ]
    }
   ],
   "source": [
    "main_link = 'https://api.github.com'\n",
    "user = 'Dust09'\n",
    "password = getpass.getpass()\n",
    "req = requests.get(f'{tar_link}/user/repos', auth=(user, password))\n"
   ]
  },
  {
   "cell_type": "code",
   "execution_count": 109,
   "metadata": {},
   "outputs": [
    {
     "name": "stdout",
     "output_type": "stream",
     "text": [
      "https://github.com/Dust09/less08\n",
      "https://github.com/Dust09/python\n",
      "https://github.com/Dust09/sql\n"
     ]
    }
   ],
   "source": [
    "data_git = json.loads(req.text)\n",
    "\n",
    "\n",
    "for repos in data_git:\n",
    "    if not repos['private']:\n",
    "        print(repos['html_url'])"
   ]
  },
  {
   "cell_type": "markdown",
   "metadata": {},
   "source": [
    "2 Задание"
   ]
  },
  {
   "cell_type": "code",
   "execution_count": 23,
   "metadata": {},
   "outputs": [],
   "source": [
    "site = 'https://openexchangerates.org/'\n",
    "api_id = '99645848204f4e0eacd201bc1d7e0d13'\n",
    "link = f'{site}api/latest.json?app_id={api_id}'\n",
    "requ = requests.get(link)\n"
   ]
  },
  {
   "cell_type": "code",
   "execution_count": 67,
   "metadata": {},
   "outputs": [
    {
     "name": "stdout",
     "output_type": "stream",
     "text": [
      "Введите валюту\n",
      "RUB\n"
     ]
    }
   ],
   "source": [
    "data = json.loads(requ.text)\n",
    "print('Введите валюту')\n",
    "val = input('')\n"
   ]
  },
  {
   "cell_type": "code",
   "execution_count": 68,
   "metadata": {},
   "outputs": [
    {
     "name": "stdout",
     "output_type": "stream",
     "text": [
      "1 USD = 63.7891 RUB\n"
     ]
    }
   ],
   "source": [
    "print(f\"1 USD = {data['rates'][val]} {val}\")"
   ]
  },
  {
   "cell_type": "code",
   "execution_count": null,
   "metadata": {},
   "outputs": [],
   "source": []
  }
 ],
 "metadata": {
  "kernelspec": {
   "display_name": "Python 3",
   "language": "python",
   "name": "python3"
  },
  "language_info": {
   "codemirror_mode": {
    "name": "ipython",
    "version": 3
   },
   "file_extension": ".py",
   "mimetype": "text/x-python",
   "name": "python",
   "nbconvert_exporter": "python",
   "pygments_lexer": "ipython3",
   "version": "3.7.3"
  }
 },
 "nbformat": 4,
 "nbformat_minor": 2
}
