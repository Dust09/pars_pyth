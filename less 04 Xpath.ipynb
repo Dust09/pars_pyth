{
 "cells": [
  {
   "cell_type": "code",
   "execution_count": 1,
   "metadata": {},
   "outputs": [],
   "source": [
    "from lxml import html\n",
    "import requests\n"
   ]
  },
  {
   "cell_type": "code",
   "execution_count": 2,
   "metadata": {},
   "outputs": [],
   "source": [
    "user_agent = {'User-Agent':'Mozilla/5.0 (Windows NT 10.0; Win64; x64) AppleWebKit/537.36 (KHTML, like Gecko) Chrome/78.0.3904.108 Safari/537.36'}\n",
    "link1 = 'https://m.lenta.ru/parts/news/'\n",
    "link2 = 'https://mail.ru/?from=m'"
   ]
  },
  {
   "cell_type": "code",
   "execution_count": 5,
   "metadata": {},
   "outputs": [
    {
     "name": "stdout",
     "output_type": "stream",
     "text": [
      "[{'link': 'lenta.ru/news/2019/12/04/aleppo/', 'title': 'Десять человек погибли в результате обстрела в Сирии', 'time': '22:44'}, {'link': 'lenta.ru/news/2019/12/04/obvinili/', 'title': 'Бывшего президента Армении обвинили в хищении госсредств', 'time': '22:32'}, {'link': 'lenta.ru/news/2019/12/04/messi/', 'title': 'Месси рассказал о боли из-за Роналду', 'time': '22:23'}, {'link': 'lenta.ru/news/2019/12/04/ber/', 'title': 'Стало известно о прошлом убитого в Германии соратника Басаева', 'time': '21:57'}, {'link': 'lenta.ru/news/2019/12/04/kalian/', 'title': 'В России задумали запретить кальянные в жилых домах', 'time': '21:55'}, {'link': 'lenta.ru/news/2019/12/04/oproverzhenie/', 'title': 'СБУ открестилась от обысков в офисе Медведчука', 'time': '21:32'}, {'link': 'lenta.ru/news/2019/12/04/naftooo/', 'title': '«Нафтогаз» рассказал «Газпрому» о возможном пути снижения цен на транзит газа', 'time': '21:27'}, {'link': 'lenta.ru/news/2019/12/04/mma_again/', 'title': 'Емельяненко представил реванш против Кокляева в ММА', 'time': '21:23'}, {'link': 'lenta.ru/news/2019/12/04/medal/', 'title': 'В Чечне потратят миллионы рублей на медали имени отца Кадырова', 'time': '21:09'}, {'link': 'lenta.ru/news/2019/12/04/mu_tot/', 'title': 'Видеотрансляцию матча «Манчестер Юнайтед» — «Тоттенхэм» покажут онлайн', 'time': '21:02'}, {'link': 'lenta.ru/news/2019/12/04/luchshee_detyam/', 'title': 'Лукашенко захотел передать детям независимую и суверенную страну', 'time': '20:56'}, {'link': 'lenta.ru/news/2019/12/04/buds/', 'title': 'Samsung выпустит «убийцу» AirPods Pro', 'time': '20:47'}, {'link': 'lenta.ru/news/2019/12/04/guber/', 'title': 'В Литве Лукашенко окрестили «российским губернатором»', 'time': '20:37'}, {'link': 'lenta.ru/news/2019/12/04/support/', 'title': 'Актер Евгений Миронов поддержал осужденного за картинки в соцсетях трансгендера', 'time': '20:35'}, {'link': 'lenta.ru/news/2019/12/04/t_34/', 'title': 'Ученый рассказал о судьбе белого медведя с надписью «Т-34»', 'time': '20:32'}, {'link': 'lenta.ru/news/2019/12/04/shampan/', 'title': 'Дешевое шампанское в России станет еще дешевле', 'time': '20:29'}, {'link': 'lenta.ru/news/2019/12/04/spb/', 'title': 'Полиция отчиталась о профилактических арестах десятков фанатов в Петербурге', 'time': '20:26'}, {'link': 'lenta.ru/news/2019/12/04/no_nato_for_opressor/', 'title': 'Венгрия пообещала не пускать Украину в НАТО', 'time': '20:24'}, {'link': 'lenta.ru/news/2019/12/04/proposal/', 'title': 'Мужчина инсценировал ограбление магазина ради руки и сердца возлюбленной', 'time': '20:16'}, {'link': 'lenta.ru/news/2019/12/04/kzvsua/', 'title': 'Украина обиделась на Казахстан из-за Крыма', 'time': '20:10'}]\n"
     ]
    }
   ],
   "source": [
    "def lenta(link1,user_agent):\n",
    "    req = request = requests.get(link1,headers = user_agent)\n",
    "    \n",
    "    if req.ok:\n",
    "        root = html.fromstring(req.text)\n",
    "        all_news = root.xpath('//div[@class = \"parts-page__body\"]')\n",
    "        for news in all_news:\n",
    "            l = news.xpath('//div[@class=\"card-mini__title\"]/text()')\n",
    "            h = news.xpath('//a[@class=\"card-mini\"]/@href')\n",
    "            t = news.xpath('//time[@class = \"card-mini__date\"]/text()')\n",
    "            data_lenta=[]\n",
    "            for i,z,c in zip(h,l,t):\n",
    "                data_lenta.append({'link':f'lenta.ru{i}',\n",
    "                              'title':z,\n",
    "                             'time':c})\n",
    "            print(data_lenta)\n",
    "        \n",
    "    \n",
    "lenta(link1,user_agent)  "
   ]
  },
  {
   "cell_type": "code",
   "execution_count": 4,
   "metadata": {},
   "outputs": [
    {
     "name": "stdout",
     "output_type": "stream",
     "text": [
      "[{'title': 'Путин впервые обвинил Болгарию вторможении «Турецкого потока»', 'link': 'https://r.mail.ru/n315494704?&test_id=63&rnd=186052407'}, {'title': 'Кофе рекордно подорожал вожидании дефицита', 'link': 'https://r.mail.ru/n315501314?&test_id=63&rnd=186052407'}, {'title': 'Убийство чеченского полевого командира поссорило Москву иБерлин', 'link': 'https://r.mail.ru/n315493332?&test_id=63&rnd=186052407'}, {'title': 'Трамп назвал Трюдо «двуличным» ипокинул саммит НАТО', 'link': 'https://r.mail.ru/n315496353?&test_id=63&rnd=186052407'}, {'title': 'Крошечные жилища корейцев показали нафото', 'link': 'https://r.mail.ru/n315479234?&test_id=63&rnd=186052407'}, {'title': 'Девушка сделала идеальный снимок ссемнадцатью питомцами (фото)', 'link': 'https://r.mail.ru/n315489343?&test_id=63&rnd=186052407'}, {'title': 'В детском саду в Омске елку прибили к потолку', 'link': 'https://r.mail.ru/n315490323?&test_id=63&rnd=186052407'}, {'title': 'Вышел календарь Pirelli 2020 (фото)', 'link': 'https://r.mail.ru/n315489344?&test_id=63&rnd=186052407'}, {'title': 'Условия выплаты пособия напервенца изменятся вБашкирии', 'link': 'https://r.mail.ru/n315487014?&test_id=63&rnd=367288129'}, {'title': 'Закроют дорогу отостановки «Школьной» домоста  ', 'link': 'https://r.mail.ru/n315483961?&test_id=63&rnd=367288129'}, {'title': 'Насеверо-западе Башкирии появится животноводческий комплекс', 'link': 'https://r.mail.ru/n315481754?&test_id=63&rnd=367288129'}, {'title': 'Жителей Башкирии предупреждают обухудшении погоды', 'link': 'https://r.mail.ru/n315479629?&test_id=63&rnd=367288129'}, {'title': 'ВМишкино Хабиров ознакомился сработой местного ФОКа (фото)', 'link': 'https://r.mail.ru/n315495996?&test_id=63&rnd=367288129'}, {'title': 'Патруль ДПС застрелил мужчину (он требовал отпустить нарушителя)', 'link': 'https://r.mail.ru/n315497999?&test_id=63&rnd=655671248'}, {'title': ' Как мы будем жить в 2020 году (неприятный прогноз)', 'link': 'https://r.mail.ru/n315492632?&test_id=63&rnd=655671248'}, {'title': 'Главные звездные свадьбы 2019 года (фото)', 'link': 'https://r.mail.ru/n315489458?&test_id=63&rnd=655671248'}, {'title': 'Патруль ДПС застрелил мужчину (он требовал отпустить нарушителя)', 'link': 'https://r.mail.ru/n315478547?&test_id=63&rnd=655671248'}, {'title': 'Два мотора V12: продан самый дорогой грузовик на планете (видео)', 'link': 'https://r.mail.ru/n315472867?&test_id=63&rnd=655671248'}, {'title': 'Завод Ford под Санкт-Петербургом оказался никому не нужен', 'link': 'https://r.mail.ru/n315468879?&test_id=63&rnd=655671248'}, {'title': 'Opel обновил флагманскую модель (но мы её не увидим)', 'link': 'https://r.mail.ru/n315468300?&test_id=63&rnd=655671248'}, {'title': 'Новый календарь Pirelli: теперь не только фото, но и видео', 'link': 'https://r.mail.ru/n315496839?&test_id=63&rnd=119710309'}, {'title': 'Начем полетим вближайшее время', 'link': 'https://r.mail.ru/n315498208?&test_id=63&rnd=119710309'}, {'title': 'АВТОВАЗ решил не выпускать «наполовину рестайлинговые» Lada 4x4', 'link': 'https://r.mail.ru/n315490425?&test_id=63&rnd=119710309'}, {'title': 'Машина со сменными кузовами: сделан еще один шаг ', 'link': 'https://r.mail.ru/n315464582?&test_id=63&rnd=119710309'}, {'title': 'Россиянам все чаще звонят незнакомцы', 'link': 'https://r.mail.ru/n315486524?&test_id=63&rnd=119710309'}, {'title': 'Xiaomi раздает кредиты через новое приложение', 'link': 'https://r.mail.ru/n315474446?&test_id=63&rnd=119710309'}, {'title': 'Почти флагман. Новейший корейский смартфон показали до анонса', 'link': 'https://r.mail.ru/n315440666?&test_id=63&rnd=119710309'}, {'title': 'Как перенести контакты нановый смартфон', 'link': 'https://r.mail.ru/n315464583?&test_id=63&rnd=190298158'}, {'title': 'Накрашенные парни покорили весь мир. Чтотакое K-pop', 'link': 'https://r.mail.ru/n315468001?&test_id=63&rnd=190298158'}, {'title': 'В Россию приехал «китаец» с топовым процессором и приятной ценой', 'link': 'https://r.mail.ru/n315494656?&test_id=63&rnd=190298158'}, {'title': 'WhatsApp удивит пользователей необычной опцией', 'link': 'https://r.mail.ru/n315462870?&test_id=63&rnd=190298158'}, {'title': 'Представлены процессоры длясмартфонов будущего', 'link': 'https://r.mail.ru/n315478181?&test_id=63&rnd=190298158'}, {'title': 'Главные звездные свадьбы 2019 года', 'link': 'https://r.mail.ru/n315408249?&test_id=63&rnd=190298158'}, {'title': '30-летняя муза Петросяна ежедневно тратит по 130 тысяч рублей', 'link': 'https://r.mail.ru/n315408250?&test_id=63&rnd=190298158'}, {'title': 'Мелания Трамп затмила Кейт Миддлтон в Букингемском дворце', 'link': 'https://r.mail.ru/n315500586?&test_id=63&rnd=133264000'}, {'title': 'Не хуже Куршевеля: 8 мест для катания на лыжах в России', 'link': 'https://r.mail.ru/n315496383?&test_id=63&rnd=133264000'}, {'title': 'Животные звезд, ставшие причиной их личных драм', 'link': 'https://r.mail.ru/n315497334?&test_id=63&rnd=133264000'}]\n"
     ]
    }
   ],
   "source": [
    "def mail (link2,user_agent):\n",
    "    req = request = requests.get(link2,headers = user_agent)\n",
    "    if req.ok:\n",
    "        root = html.fromstring(req.text)\n",
    "        all_news = root.xpath('//div[@id = \"news-0\"]')\n",
    "        for news in all_news:\n",
    "            l = news.xpath('//span[@class=\"list__item__title\"]/text()')\n",
    "            link = news.xpath('//a[@class = \"list__item\"]/@href')\n",
    "            data_mail = []\n",
    "            for i,z in zip(l,link):\n",
    "                t = i.split('\\xa0')\n",
    "                title = ''.join(t)\n",
    "                data_mail.append({'title':title,\n",
    "                                 'link':z})\n",
    "            print(data_mail)\n",
    "            \n",
    "\n",
    "mail(link2,user_agent)\n",
    "    "
   ]
  },
  {
   "cell_type": "code",
   "execution_count": null,
   "metadata": {},
   "outputs": [],
   "source": []
  }
 ],
 "metadata": {
  "kernelspec": {
   "display_name": "Python 3",
   "language": "python",
   "name": "python3"
  },
  "language_info": {
   "codemirror_mode": {
    "name": "ipython",
    "version": 3
   },
   "file_extension": ".py",
   "mimetype": "text/x-python",
   "name": "python",
   "nbconvert_exporter": "python",
   "pygments_lexer": "ipython3",
   "version": "3.7.3"
  }
 },
 "nbformat": 4,
 "nbformat_minor": 2
}
